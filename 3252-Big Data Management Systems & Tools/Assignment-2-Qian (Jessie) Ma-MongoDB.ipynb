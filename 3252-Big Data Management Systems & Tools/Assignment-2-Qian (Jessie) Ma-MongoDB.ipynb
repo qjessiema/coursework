{
 "cells": [
  {
   "cell_type": "markdown",
   "metadata": {
    "colab_type": "text",
    "id": "QxDhTyclvzuz"
   },
   "source": [
    "## Assignment 2: MongoDB"
   ]
  },
  {
   "cell_type": "markdown",
   "metadata": {
    "colab_type": "text",
    "id": "JjUBX185vzu0"
   },
   "source": [
    "This assignment is based on content discussed in the Introduction to MongoDB module."
   ]
  },
  {
   "cell_type": "markdown",
   "metadata": {
    "colab_type": "text",
    "id": "Y5sVEZYQvzu1"
   },
   "source": [
    "## Learning outcomes "
   ]
  },
  {
   "cell_type": "markdown",
   "metadata": {
    "colab_type": "text",
    "id": "RNAMrxvpvzu1"
   },
   "source": [
    "The purpose of this assignment is for learners to be able to:\n",
    "- Familarize with JSON document syntax\n",
    "- Understand basic MongoDB CRUD operations\n",
    "- Understand MongoDB data pipelines to run aggregate queries"
   ]
  },
  {
   "cell_type": "markdown",
   "metadata": {
    "colab_type": "text",
    "id": "DB6Mhqwrvzu2"
   },
   "source": [
    "In this assignment, you will make use of the sample data provided.  \n",
    "\n",
    "This dataset has 3 collections: Employee, Workplace and Address.  You will import this data into your local MongoDB database.\n",
    "\n",
    "Required imports for this project are given below. Make sure you have all libraries required for this project installed. You may use conda or pip based on your set up."
   ]
  },
  {
   "cell_type": "markdown",
   "metadata": {
    "colab_type": "text",
    "id": "ZPXaQ47onjsR"
   },
   "source": [
    "## Setup Notes\n",
    "\n",
    "**Please note** These instructions are duplicated here for your reference. You would have encountered them in a previous module. It is expected that you have already taken the steps to set up and run MongoDB.\n",
    "\n",
    "We will be using MongoDB Community Edition.  The MongoDB database <b>MUST</b> be installed and running locally before continuing with this notebook.  We will need to install two packages using the Anaconda package manager:\n",
    "\n",
    "1. [Mongodb](https://www.mongodb.com/) - this package contains the mongodb database \n",
    "2. [PyMongo](https://www.mongodb.com/docs/drivers/pymongo/) - this package contains the python driver that will allow us to communicate with the mongodb database.\n",
    "\n",
    "#### Install\n",
    "\n",
    "1. Open a command line terminal and execute the following command to install mongodb.\n",
    "```console\n",
    "conda install -c anaconda mongodb\n",
    "```\n",
    "2. Open a command line terminal and execute the following command to install pymongo packge.\n",
    "```console\n",
    "conda install -c anaconda pymongo\n",
    "```\n",
    "\n",
    "#### Run Mongodb in Windows\n",
    "1. MongoDB requires a data directory to store all data. MongoDB’s default data directory path is \\data\\db. Create this folder using the following commands from a Command Prompt:\n",
    "```console\n",
    "md \\data\\db\n",
    "```\n",
    "\n",
    "2. To start MongoDB, run mongod.exe. For example, from the Command Prompt:\n",
    "```console\n",
    "\"C:\\Program Files\\MongoDB\\Server\\3.2\\bin\\mongod.exe\"\n",
    "```\n",
    "\n",
    "#### Run Mongodb in Mac\n",
    "1. MongoDB requires a data directory to store all data. MongoDB’s default data directory path is /data/db. Create this folder using the following commands from a Command Prompt.  Note that we run the command as a super user using the \"sudo\" command:\n",
    "```console\n",
    "sudo mkdir /data/db/\n",
    "```\n",
    "\n",
    "2. To start MongoDB, run mongod.exe. For example, from the Command Promp.  Note that we run the command as a super user using the \"sudo\" command:\n",
    "```console\n",
    "sudo mongod --config /usr/local/etc/mongod.conf\n",
    "```"
   ]
  },
  {
   "cell_type": "code",
   "execution_count": 1,
   "metadata": {
    "colab": {},
    "colab_type": "code",
    "id": "Gqxn8n27vzu3",
    "outputId": "7cf9a92e-d0d2-49d8-cfce-532dccb4e94a"
   },
   "outputs": [
    {
     "name": "stdout",
     "output_type": "stream",
     "text": [
      "Mongo version 3.12.0\n"
     ]
    }
   ],
   "source": [
    "#required imports\n",
    "import os\n",
    "import json\n",
    "import datetime\n",
    "import pymongo\n",
    "import pprint\n",
    "import pandas as pd\n",
    "import numpy as np\n",
    "from pymongo import MongoClient\n",
    "from bson import ObjectId\n",
    "print('Mongo version', pymongo.__version__)"
   ]
  },
  {
   "cell_type": "markdown",
   "metadata": {
    "colab_type": "text",
    "id": "TeBZEImlnjsY"
   },
   "source": [
    "We first need to connect to our locally running MongoDB database (<b>Make sure your database is running on your machine</b>). We will use the MongoClient to connect to a local 'test' database that is running on port 27017 (this is the default port)."
   ]
  },
  {
   "cell_type": "code",
   "execution_count": 2,
   "metadata": {
    "colab": {},
    "colab_type": "code",
    "id": "UdtVCmGGnjsZ"
   },
   "outputs": [],
   "source": [
    "client = MongoClient('localhost', 27017)\n",
    "db = client.assignment1"
   ]
  },
  {
   "cell_type": "markdown",
   "metadata": {
    "colab_type": "text",
    "id": "2WW6r96Tvzu7"
   },
   "source": [
    "After installing necessary modules proceed to import the data into your database."
   ]
  },
  {
   "cell_type": "code",
   "execution_count": 3,
   "metadata": {
    "colab": {},
    "colab_type": "code",
    "id": "5VDnAuj6vzu7"
   },
   "outputs": [],
   "source": [
    "# Let's delete any existing collections in our database\n",
    "db.workplace.drop()\n",
    "db.address.drop()\n",
    "db.employee.drop()\n",
    "\n",
    "# Import our files into our three collections\n",
    "with open('Data/Employee.json') as f:\n",
    "    db.employee.insert_many(json.load(f))\n",
    "with open('Data/Workplace.json') as f:\n",
    "    db.workplace.insert_many(json.load(f))\n",
    "with open('Data/Address.json') as f:\n",
    "    db.address.insert_many(json.load(f))"
   ]
  },
  {
   "cell_type": "markdown",
   "metadata": {
    "colab_type": "text",
    "id": "3lL-abBuvzu9"
   },
   "source": [
    "#### Question 1 (10 Marks)\n",
    "\n",
    "The address collection contains employee from different ages and interests.  Perform a simple query to list all employees that are less than or equal to 50 and like Cooking.\n",
    "\n",
    "__NOTE:__ the following shows the structure of an Employee document that will help you construct the query."
   ]
  },
  {
   "cell_type": "code",
   "execution_count": 4,
   "metadata": {
    "colab": {},
    "colab_type": "code",
    "id": "gqB8V6Xbnjsf",
    "outputId": "b757f86e-0d69-4e8c-e65d-4415e5a9cd57"
   },
   "outputs": [
    {
     "name": "stdout",
     "output_type": "stream",
     "text": [
      "{'_id': '9f39da36-82cc-4353-ab90-d616105fa7c1',\n",
      " 'address_id': 'b6c0b50a-d0e3-43bf-a2a4-8d4674c2a7e8',\n",
      " 'age': 40,\n",
      " 'email': 'ih@ri.ro',\n",
      " 'firstname': 'Emilie',\n",
      " 'interests': ['Bowling', 'Cooking', 'Golf', 'Swimming'],\n",
      " 'lastname': 'Woods',\n",
      " 'workplace_id': 'a32bf18d-e0e5-48f2-a851-aa49c80f9460'}\n"
     ]
    }
   ],
   "source": [
    "pprint.pprint(client.assignment1.employee.find_one())"
   ]
  },
  {
   "cell_type": "code",
   "execution_count": 5,
   "metadata": {
    "colab": {},
    "colab_type": "code",
    "id": "nRLVQgQQvzu9"
   },
   "outputs": [
    {
     "name": "stdout",
     "output_type": "stream",
     "text": [
      "{'_id': '9f39da36-82cc-4353-ab90-d616105fa7c1',\n",
      " 'address_id': 'b6c0b50a-d0e3-43bf-a2a4-8d4674c2a7e8',\n",
      " 'age': 40,\n",
      " 'email': 'ih@ri.ro',\n",
      " 'firstname': 'Emilie',\n",
      " 'interests': ['Bowling', 'Cooking', 'Golf', 'Swimming'],\n",
      " 'lastname': 'Woods',\n",
      " 'workplace_id': 'a32bf18d-e0e5-48f2-a851-aa49c80f9460'}\n",
      "{'_id': 'af27265e-6639-49f2-991e-193275a4111a',\n",
      " 'address_id': '64fd714d-e219-4e45-888b-cc2238a8bd0b',\n",
      " 'age': 18,\n",
      " 'email': 'sug@gon.bf',\n",
      " 'firstname': 'Thomas',\n",
      " 'interests': ['Cooking', 'Cricket', 'Tennis', 'Swimming', 'Fishing'],\n",
      " 'lastname': 'Patterson',\n",
      " 'workplace_id': '5345fcb9-6297-4b9f-aa15-cbee8460f28f'}\n",
      "{'_id': '00289d48-bad8-4b73-a359-a1a1f05c96e2',\n",
      " 'address_id': '8a430805-00b8-40a6-bd93-c950b544a83b',\n",
      " 'age': 22,\n",
      " 'email': 'ra@dupnejuk.nr',\n",
      " 'firstname': 'Sophia',\n",
      " 'interests': ['Hiking', 'Soccer', 'Bowling', 'Rubgy', 'Cooking', 'Dancing'],\n",
      " 'lastname': 'Flores',\n",
      " 'workplace_id': 'b12cd444-e65b-4bc2-8cf6-2dbe854a627b'}\n",
      "{'_id': 'da76e52b-b3db-4fc0-b0d6-435d1aed0cd9',\n",
      " 'address_id': '5d3eacc4-d1d8-459b-973c-3bc71feacf50',\n",
      " 'age': 25,\n",
      " 'email': 'ro@nemaw.et',\n",
      " 'firstname': 'Ollie',\n",
      " 'interests': ['Cooking', 'Bowling', 'Dancing'],\n",
      " 'lastname': 'Barnett',\n",
      " 'workplace_id': 'cb795afb-8dc3-482f-b3a0-14229a280afa'}\n",
      "{'_id': '51643cd6-49bb-45d5-bd6e-717c62bb2869',\n",
      " 'address_id': '3f10d9f7-57ef-40e1-a97d-d2ee53aa2c6e',\n",
      " 'age': 27,\n",
      " 'email': 'hutfardu@vicbiri.gb',\n",
      " 'firstname': 'James',\n",
      " 'interests': ['Rubgy', 'Tennis', 'Cricket', 'Cooking'],\n",
      " 'lastname': 'Wilkins',\n",
      " 'workplace_id': 'cb795afb-8dc3-482f-b3a0-14229a280afa'}\n",
      "{'_id': 'f073a705-6546-4375-adb5-b224871776ef',\n",
      " 'address_id': 'f4e59d7e-ea40-442d-87be-106e3c46a554',\n",
      " 'age': 25,\n",
      " 'email': 'fekegim@lucul.tp',\n",
      " 'firstname': 'Aaron',\n",
      " 'interests': ['Cooking'],\n",
      " 'lastname': 'Carr',\n",
      " 'workplace_id': 'b2a2844d-aeab-4602-b74c-01bf3b8e9c78'}\n",
      "{'_id': '457ef68c-9651-4925-bca0-15e246661d19',\n",
      " 'address_id': '5e97658e-5809-41b8-a088-eddbd81f86a7',\n",
      " 'age': 34,\n",
      " 'email': 'jus@goal.bn',\n",
      " 'firstname': 'Alta',\n",
      " 'interests': ['Cricket', 'Cycling', 'Rubgy', 'Golf', 'Cooking', 'Dancing'],\n",
      " 'lastname': 'Sharp',\n",
      " 'workplace_id': 'b2a2844d-aeab-4602-b74c-01bf3b8e9c78'}\n",
      "{'_id': '840184a3-4c4d-4b15-8813-30fca6e7827b',\n",
      " 'address_id': '456e18ae-c2f8-443e-899d-f2b893499695',\n",
      " 'age': 36,\n",
      " 'email': 'me@wak.ne',\n",
      " 'firstname': 'Delia',\n",
      " 'interests': ['Cricket', 'Cooking', 'Hiking', 'Dancing', 'Tennis'],\n",
      " 'lastname': 'Douglas',\n",
      " 'workplace_id': 'b2a2844d-aeab-4602-b74c-01bf3b8e9c78'}\n",
      "{'_id': '6157dc3b-ee2d-463a-b62b-1cd4eed7d575',\n",
      " 'address_id': '8d162eb9-eefc-4b7e-bcad-6fb7a02b15b0',\n",
      " 'age': 48,\n",
      " 'email': 'co@pog.nz',\n",
      " 'firstname': 'Dominic',\n",
      " 'interests': ['Cycling', 'Dancing', 'Cooking'],\n",
      " 'lastname': 'Wade',\n",
      " 'workplace_id': 'cb795afb-8dc3-482f-b3a0-14229a280afa'}\n",
      "{'_id': 'cc3e389d-be0d-467a-ba70-7c84f6504911',\n",
      " 'address_id': '0d3a90d5-11bd-4f96-91ba-7e7ef80888f0',\n",
      " 'age': 36,\n",
      " 'email': 'saj@far.zm',\n",
      " 'firstname': 'Myrtle',\n",
      " 'interests': ['Cooking', 'Cycling', 'Hiking', 'Rubgy', 'Bowling', 'Dancing'],\n",
      " 'lastname': 'Little',\n",
      " 'workplace_id': '2b87eb84-e5b4-4f2c-9e13-dc3ba20a7f7f'}\n",
      "{'_id': 'c2bf0e3f-e3de-41de-b745-c5b70571dd3a',\n",
      " 'address_id': '7edd78a4-c4e6-484a-bf2f-ecad5c4c506b',\n",
      " 'age': 29,\n",
      " 'email': 'co@mahdo.ca',\n",
      " 'firstname': 'Jordan',\n",
      " 'interests': ['Swimming', 'Cooking'],\n",
      " 'lastname': 'Roberson',\n",
      " 'workplace_id': 'cb795afb-8dc3-482f-b3a0-14229a280afa'}\n",
      "{'_id': '4bc070ca-f849-4eeb-8ab2-98fe3c0861c0',\n",
      " 'address_id': 'fc607f68-81c8-4ca8-8a9e-30239ccae40f',\n",
      " 'age': 38,\n",
      " 'email': 'pa@sodej.ck',\n",
      " 'firstname': 'Francis',\n",
      " 'interests': ['Dancing', 'Swimming', 'Cooking', 'Bowling', 'Cycling'],\n",
      " 'lastname': 'Harris',\n",
      " 'workplace_id': '2b87eb84-e5b4-4f2c-9e13-dc3ba20a7f7f'}\n",
      "{'_id': '66894dba-4ff0-4545-b7cc-eb6a5bd551c5',\n",
      " 'address_id': '4dcebe6e-0787-4158-9744-3d721098cec4',\n",
      " 'age': 49,\n",
      " 'email': 'do@womjip.by',\n",
      " 'firstname': 'Clara',\n",
      " 'interests': ['Soccer', 'Cooking', 'Cycling'],\n",
      " 'lastname': 'Butler',\n",
      " 'workplace_id': '50275ad1-8140-4e79-8818-21793e3eb0a3'}\n",
      "{'_id': '581f59a2-ff4c-407e-b58f-e4f292208928',\n",
      " 'address_id': '1cf24906-c700-41bb-a4c8-bba3c3ae30d9',\n",
      " 'age': 33,\n",
      " 'email': 'vasberet@his.nz',\n",
      " 'firstname': 'Rena',\n",
      " 'interests': ['Cycling', 'Swimming', 'Soccer', 'Cooking'],\n",
      " 'lastname': 'Johnson',\n",
      " 'workplace_id': '2b87eb84-e5b4-4f2c-9e13-dc3ba20a7f7f'}\n",
      "{'_id': 'b2a2ae86-f4f6-4da5-ade6-ee1cd135daf3',\n",
      " 'address_id': 'ef5a17a2-6f11-49b8-a0fd-e0bddc56f185',\n",
      " 'age': 49,\n",
      " 'email': 'ah@jopah.uz',\n",
      " 'firstname': 'Gavin',\n",
      " 'interests': ['Rubgy', 'Cooking', 'Bowling'],\n",
      " 'lastname': 'Conner',\n",
      " 'workplace_id': '50275ad1-8140-4e79-8818-21793e3eb0a3'}\n",
      "{'_id': '2bfc0479-cb15-46e1-94fa-801404791b21',\n",
      " 'address_id': '77ce0c50-afd6-47e8-86d7-b1b372e8deb2',\n",
      " 'age': 37,\n",
      " 'email': 'usope@tega.bh',\n",
      " 'firstname': 'Peter',\n",
      " 'interests': ['Cooking', 'Swimming', 'Cricket'],\n",
      " 'lastname': 'Jimenez',\n",
      " 'workplace_id': 'cb795afb-8dc3-482f-b3a0-14229a280afa'}\n"
     ]
    }
   ],
   "source": [
    "# YOUR CODE HERE\n",
    "for employee in client.assignment1.employee.find({'age':{'$lte':50},'interests':'Cooking'}):\n",
    "    pprint.pprint(employee)"
   ]
  },
  {
   "cell_type": "markdown",
   "metadata": {
    "colab_type": "text",
    "id": "HcLWsbNmvzvD"
   },
   "source": [
    "#### Question 2  (10 Marks)\n",
    "\n",
    "Insert a new Employee with the following properties:\n",
    "\n",
    "* First Name: Jake \n",
    "* Last Name: Sample\n",
    "* Email: jakesample@email.com\n",
    "* Age: 26\n",
    "* Interest: Biking, Hiking\n",
    "\n",
    "Also, this employee works for 'Union Planters Corp' and lives at '573 Wojhas Square, Victoria'.\n",
    "Verify that the insert succeeded and display the generated employees _id attribute.\n",
    "\n",
    "__HINT__ An Employee document references a Workplace and Address document"
   ]
  },
  {
   "cell_type": "code",
   "execution_count": 6,
   "metadata": {},
   "outputs": [
    {
     "data": {
      "text/plain": [
       "100"
      ]
     },
     "execution_count": 6,
     "metadata": {},
     "output_type": "execute_result"
    }
   ],
   "source": [
    "# Check number of documents in collection prior to insert\n",
    "client.assignment1.employee.count_documents({})"
   ]
  },
  {
   "cell_type": "code",
   "execution_count": 7,
   "metadata": {
    "colab": {},
    "colab_type": "code",
    "id": "At7EoGtLvzvE"
   },
   "outputs": [
    {
     "data": {
      "text/plain": [
       "<pymongo.results.InsertOneResult at 0x212a650eec0>"
      ]
     },
     "execution_count": 7,
     "metadata": {},
     "output_type": "execute_result"
    }
   ],
   "source": [
    "# YOUR CODE HERE\n",
    "# Insert new Employee\n",
    "emp_address_id=client.assignment1.address.find_one({'address':'573 Wojhas Square'})['_id']\n",
    "emp_workplace_id=client.assignment1.workplace.find_one({'name':'Union Planters Corp'})['_id']\n",
    "\n",
    "client.assignment1.employee.insert_one({'firstname':'Jake','lastname':'Sample','email':'jakesample@email.com','age':26,'interests':['Biking','Hiking'],'address_id':emp_address_id,'workplace_id':emp_workplace_id})"
   ]
  },
  {
   "cell_type": "code",
   "execution_count": 8,
   "metadata": {},
   "outputs": [
    {
     "data": {
      "text/plain": [
       "101"
      ]
     },
     "execution_count": 8,
     "metadata": {},
     "output_type": "execute_result"
    }
   ],
   "source": [
    "# Check number of documents in collection after insert\n",
    "client.assignment1.employee.count_documents({})"
   ]
  },
  {
   "cell_type": "code",
   "execution_count": 9,
   "metadata": {},
   "outputs": [
    {
     "name": "stdout",
     "output_type": "stream",
     "text": [
      "{'_id': ObjectId('652caee7b8960f343676c69f'),\n",
      " 'address_id': '91b5b7b3-2309-4e8a-8247-cd66d626ef0c',\n",
      " 'age': 26,\n",
      " 'email': 'jakesample@email.com',\n",
      " 'firstname': 'Jake',\n",
      " 'interests': ['Biking', 'Hiking'],\n",
      " 'lastname': 'Sample',\n",
      " 'workplace_id': '5345fcb9-6297-4b9f-aa15-cbee8460f28f'}\n"
     ]
    }
   ],
   "source": [
    "# Verify the insert\n",
    "for employee in client.assignment1.employee.find({'firstname':'Jake','lastname':'Sample'}):\n",
    "    pprint.pprint(employee)"
   ]
  },
  {
   "cell_type": "markdown",
   "metadata": {
    "colab_type": "text",
    "id": "Bq6r7ffrvzvI"
   },
   "source": [
    "#### Question 3 (10 Marks)\n",
    "\n",
    "Delete all employees that work for 'Great Plains Energy Inc.' and are greater than 46 years old and likes 'Tennis'. Once you delete the employees verify the number of employees deleted."
   ]
  },
  {
   "cell_type": "code",
   "execution_count": 10,
   "metadata": {
    "colab": {},
    "colab_type": "code",
    "id": "XtzUs6YDvzvJ"
   },
   "outputs": [
    {
     "data": {
      "text/plain": [
       "101"
      ]
     },
     "execution_count": 10,
     "metadata": {},
     "output_type": "execute_result"
    }
   ],
   "source": [
    "# YOUR CODE HERE\n",
    "# Check number of documents in collection prior to delete\n",
    "client.assignment1.employee.count_documents({})"
   ]
  },
  {
   "cell_type": "code",
   "execution_count": 11,
   "metadata": {},
   "outputs": [
    {
     "name": "stdout",
     "output_type": "stream",
     "text": [
      "{'_id': '153ba346-b33d-4611-802c-fd95c7cb078c',\n",
      " 'address_id': '8264af1e-1c55-4ed8-96f9-e3b9e1eff7d5',\n",
      " 'age': 71,\n",
      " 'email': 'ov@sutec.mr',\n",
      " 'firstname': 'Adelaide',\n",
      " 'interests': ['Tennis'],\n",
      " 'lastname': 'Curry',\n",
      " 'workplace_id': 'a32bf18d-e0e5-48f2-a851-aa49c80f9460'}\n",
      "{'_id': '8e082f05-13b7-485d-89c4-259f1103f95c',\n",
      " 'address_id': '62996de2-fcda-4894-95d5-fef0d11d92f4',\n",
      " 'age': 48,\n",
      " 'email': 'wi@uvafej.pt',\n",
      " 'firstname': 'Lester',\n",
      " 'interests': ['Bowling', 'Tennis'],\n",
      " 'lastname': 'Summers',\n",
      " 'workplace_id': 'a32bf18d-e0e5-48f2-a851-aa49c80f9460'}\n",
      "{'_id': 'dfce1d98-15f6-4b75-86f6-cd5d05cfdc04',\n",
      " 'address_id': '2987cea4-b71d-4338-b0ef-a9b5feb3a138',\n",
      " 'age': 80,\n",
      " 'email': 'vukhik@wejoce.nf',\n",
      " 'firstname': 'Sadie',\n",
      " 'interests': ['Golf', 'Fishing', 'Bowling', 'Dancing', 'Cooking', 'Tennis'],\n",
      " 'lastname': 'Park',\n",
      " 'workplace_id': 'a32bf18d-e0e5-48f2-a851-aa49c80f9460'}\n",
      "{'_id': '86417f71-18cd-41c5-ad01-24b31ff2074f',\n",
      " 'address_id': 'fe80c95a-a0e9-42c9-aa6a-56f27020842d',\n",
      " 'age': 65,\n",
      " 'email': 'bi@udtaofe.tj',\n",
      " 'firstname': 'Lucy',\n",
      " 'interests': ['Tennis'],\n",
      " 'lastname': 'May',\n",
      " 'workplace_id': 'a32bf18d-e0e5-48f2-a851-aa49c80f9460'}\n"
     ]
    }
   ],
   "source": [
    "# First find the documents that meet the criteria listed\n",
    "emp_workplace_id2=client.assignment1.workplace.find_one({'name':'Great Plains Energy Inc.'})['_id']\n",
    "for employee in client.assignment1.employee.find({'age':{'$gt':46},'interests':'Tennis','workplace_id':emp_workplace_id2}):\n",
    "    pprint.pprint(employee)"
   ]
  },
  {
   "cell_type": "code",
   "execution_count": 12,
   "metadata": {},
   "outputs": [
    {
     "data": {
      "text/plain": [
       "<pymongo.results.DeleteResult at 0x212a72c1000>"
      ]
     },
     "execution_count": 12,
     "metadata": {},
     "output_type": "execute_result"
    }
   ],
   "source": [
    "# Delete employees that meet the critieria listed\n",
    "client.assignment1.employee.delete_many({'age':{'$gt':46},'interests':'Tennis','workplace_id':emp_workplace_id2})"
   ]
  },
  {
   "cell_type": "code",
   "execution_count": 13,
   "metadata": {},
   "outputs": [],
   "source": [
    "# Verify that these documents have been deleted\n",
    "for employee in client.assignment1.employee.find({'age':{'$gt':46},'interests':'Tennis','workplace_id':emp_workplace_id2}):\n",
    "    pprint.pprint(employee)"
   ]
  },
  {
   "cell_type": "code",
   "execution_count": 14,
   "metadata": {},
   "outputs": [
    {
     "data": {
      "text/plain": [
       "97"
      ]
     },
     "execution_count": 14,
     "metadata": {},
     "output_type": "execute_result"
    }
   ],
   "source": [
    "# Verify new total number of documents in the collection\n",
    "# Should be 101-4=97\n",
    "client.assignment1.employee.count_documents({})"
   ]
  },
  {
   "cell_type": "markdown",
   "metadata": {
    "colab_type": "text",
    "id": "-yi0OsI0vzvQ"
   },
   "source": [
    "#### Question 4 (12 Marks)\n",
    "Add a new field called 'industry' to all employees that work for 'Health Net Inc.' and populate the field with the value 'Health Care'.\n",
    "\n",
    "__HINT__ Adding a new field to a document is like updating the document"
   ]
  },
  {
   "cell_type": "code",
   "execution_count": 15,
   "metadata": {},
   "outputs": [
    {
     "name": "stdout",
     "output_type": "stream",
     "text": [
      "{'_id': 'ad4fd8bd-b732-4388-8469-5395b497df63',\n",
      " 'address_id': '91b32548-65b6-4fd9-91a1-2d86b04b8eea',\n",
      " 'age': 42,\n",
      " 'email': 'tasnimnag@tefifdum.bo',\n",
      " 'firstname': 'Marc',\n",
      " 'interests': ['Golf', 'Cricket', 'Rubgy', 'Hiking', 'Fishing', 'Dancing'],\n",
      " 'lastname': 'Castro',\n",
      " 'workplace_id': 'a222385c-342c-43ea-adbc-9b487a2ee2be'}\n",
      "{'_id': '6222b4f5-6fd3-4c72-b058-710fb568b869',\n",
      " 'address_id': '59516270-19f4-47e8-95ae-3e83fa5f230c',\n",
      " 'age': 46,\n",
      " 'email': 'ruupeke@oh.om',\n",
      " 'firstname': 'Lucinda',\n",
      " 'interests': ['Golf', 'Rubgy', 'Tennis'],\n",
      " 'lastname': 'Gomez',\n",
      " 'workplace_id': 'a222385c-342c-43ea-adbc-9b487a2ee2be'}\n",
      "{'_id': 'ca189ae9-d04b-4ae0-9b4a-b725196c31d2',\n",
      " 'address_id': '16ff1778-b687-42ef-aace-36cedc05f521',\n",
      " 'age': 37,\n",
      " 'email': 'vom@calfim.se',\n",
      " 'firstname': 'Emilie',\n",
      " 'interests': ['Hiking'],\n",
      " 'lastname': 'Robertson',\n",
      " 'workplace_id': 'a222385c-342c-43ea-adbc-9b487a2ee2be'}\n",
      "{'_id': 'ed499274-f17f-4a4c-8327-7e740e6dd9c1',\n",
      " 'address_id': '01185f9b-b00f-4f2d-9878-0c989fe00fbc',\n",
      " 'age': 36,\n",
      " 'email': 'newi@to.in',\n",
      " 'firstname': 'Josephine',\n",
      " 'interests': ['Tennis', 'Bowling', 'Cricket'],\n",
      " 'lastname': 'Mills',\n",
      " 'workplace_id': 'a222385c-342c-43ea-adbc-9b487a2ee2be'}\n",
      "{'_id': '6a3bd505-56e6-46ec-bef1-2eef1fd3643c',\n",
      " 'address_id': 'a8f07070-cfb0-483e-a07a-b2adf9e3d4b0',\n",
      " 'age': 24,\n",
      " 'email': 'disbuivi@efu.id',\n",
      " 'firstname': 'Vernon',\n",
      " 'interests': ['Soccer'],\n",
      " 'lastname': 'Edwards',\n",
      " 'workplace_id': 'a222385c-342c-43ea-adbc-9b487a2ee2be'}\n",
      "{'_id': '5b8bb404-5741-46a9-84f2-81248ffd2840',\n",
      " 'address_id': 'fc2b6b58-8392-4f3d-b1c8-07f4df87dc24',\n",
      " 'age': 43,\n",
      " 'email': 'kazvasi@nojrek.aq',\n",
      " 'firstname': 'Glen',\n",
      " 'interests': ['Golf', 'Hiking'],\n",
      " 'lastname': 'Turner',\n",
      " 'workplace_id': 'a222385c-342c-43ea-adbc-9b487a2ee2be'}\n",
      "{'_id': 'c7cf8650-f391-4f2b-bbb5-60225729e998',\n",
      " 'address_id': '44cc24b9-1d60-45cf-be0d-a225f35d52ab',\n",
      " 'age': 49,\n",
      " 'email': 'himosewej@repan.bw',\n",
      " 'firstname': 'Jeremiah',\n",
      " 'interests': ['Cricket', 'Fishing'],\n",
      " 'lastname': 'Payne',\n",
      " 'workplace_id': 'a222385c-342c-43ea-adbc-9b487a2ee2be'}\n",
      "{'_id': '9ebcf9fc-e193-4ab7-9c38-10c2d6bf6036',\n",
      " 'address_id': 'd34f9d8c-c1a0-4653-8a44-d2fe65714956',\n",
      " 'age': 76,\n",
      " 'email': 'zut@zoksa.kw',\n",
      " 'firstname': 'Alan',\n",
      " 'interests': ['Bowling', 'Cooking', 'Rubgy', 'Fishing', 'Golf', 'Cricket'],\n",
      " 'lastname': 'Berry',\n",
      " 'workplace_id': 'a222385c-342c-43ea-adbc-9b487a2ee2be'}\n",
      "{'_id': 'fd677b4b-6eef-4777-bc3a-25d9a86134fa',\n",
      " 'address_id': '98fa15f0-5b73-4fb9-a5a4-1332e0f5b58b',\n",
      " 'age': 37,\n",
      " 'email': 'pelohno@hotivgu.hn',\n",
      " 'firstname': 'Mattie',\n",
      " 'interests': ['Cycling', 'Fishing', 'Soccer', 'Rubgy', 'Hiking'],\n",
      " 'lastname': 'Fisher',\n",
      " 'workplace_id': 'a222385c-342c-43ea-adbc-9b487a2ee2be'}\n",
      "{'_id': 'cb369c19-4bbc-449f-bff6-b198439d0d7b',\n",
      " 'address_id': 'd5b7473d-c82b-4956-bce3-80497ce6c015',\n",
      " 'age': 43,\n",
      " 'email': 'oka@lilozfaz.gn',\n",
      " 'firstname': 'Adele',\n",
      " 'interests': ['Swimming', 'Hiking', 'Tennis'],\n",
      " 'lastname': 'Benson',\n",
      " 'workplace_id': 'a222385c-342c-43ea-adbc-9b487a2ee2be'}\n",
      "{'_id': '8c4b8dc8-2ecc-46e8-8653-d126f1810c33',\n",
      " 'address_id': '592fa227-312d-4a80-8eb2-c4e26493da69',\n",
      " 'age': 27,\n",
      " 'email': 'rekasbe@vewusezi.an',\n",
      " 'firstname': 'Cory',\n",
      " 'interests': ['Fishing', 'Cricket', 'Hiking'],\n",
      " 'lastname': 'Beck',\n",
      " 'workplace_id': 'a222385c-342c-43ea-adbc-9b487a2ee2be'}\n",
      "{'_id': '9fd3a190-1991-4ce1-924b-de4701020022',\n",
      " 'address_id': '2d6b7fb9-fe27-4573-8ef6-56ba4b79e038',\n",
      " 'age': 50,\n",
      " 'email': 'imnampe@ca.pt',\n",
      " 'firstname': 'Jacob',\n",
      " 'interests': ['Dancing'],\n",
      " 'lastname': 'Austin',\n",
      " 'workplace_id': 'a222385c-342c-43ea-adbc-9b487a2ee2be'}\n",
      "{'_id': 'c6d0eebd-ddf2-41ed-a20f-76274c5c8343',\n",
      " 'address_id': '68d28d57-8cac-4388-8485-976518a6d817',\n",
      " 'age': 72,\n",
      " 'email': 'zolo@dacelva.dz',\n",
      " 'firstname': 'Tony',\n",
      " 'interests': ['Cooking', 'Rubgy'],\n",
      " 'lastname': 'Paul',\n",
      " 'workplace_id': 'a222385c-342c-43ea-adbc-9b487a2ee2be'}\n",
      "{'_id': 'e9e7ee3e-90da-4474-b6a7-f256e4915245',\n",
      " 'address_id': '5bbc3eb4-01cf-43c2-85bd-346f786adfee',\n",
      " 'age': 57,\n",
      " 'email': 'ar@gab.gov',\n",
      " 'firstname': 'Jorge',\n",
      " 'interests': ['Cooking'],\n",
      " 'lastname': 'Day',\n",
      " 'workplace_id': 'a222385c-342c-43ea-adbc-9b487a2ee2be'}\n"
     ]
    },
    {
     "data": {
      "text/plain": [
       "14"
      ]
     },
     "execution_count": 15,
     "metadata": {},
     "output_type": "execute_result"
    }
   ],
   "source": [
    "# YOUR CODE HERE\n",
    "# First find the documents that meet the criteria listed\n",
    "emp_workplace_id3=client.assignment1.workplace.find_one({'name':'Health Net Inc.'})['_id']\n",
    "for employee in client.assignment1.employee.find({'workplace_id':emp_workplace_id3}):\n",
    "    pprint.pprint(employee)\n",
    "client.assignment1.employee.count_documents({'workplace_id':emp_workplace_id3})"
   ]
  },
  {
   "cell_type": "code",
   "execution_count": 16,
   "metadata": {
    "colab": {},
    "colab_type": "code",
    "id": "gWj7cut_vzvR"
   },
   "outputs": [
    {
     "data": {
      "text/plain": [
       "<pymongo.results.UpdateResult at 0x212a7031780>"
      ]
     },
     "execution_count": 16,
     "metadata": {},
     "output_type": "execute_result"
    }
   ],
   "source": [
    "# Perform update\n",
    "client.assignment1.employee.update_many({'workplace_id':emp_workplace_id3},{'$set':{'industry':'Health Care'}})"
   ]
  },
  {
   "cell_type": "code",
   "execution_count": 17,
   "metadata": {},
   "outputs": [
    {
     "name": "stdout",
     "output_type": "stream",
     "text": [
      "{'_id': 'ad4fd8bd-b732-4388-8469-5395b497df63',\n",
      " 'address_id': '91b32548-65b6-4fd9-91a1-2d86b04b8eea',\n",
      " 'age': 42,\n",
      " 'email': 'tasnimnag@tefifdum.bo',\n",
      " 'firstname': 'Marc',\n",
      " 'industry': 'Health Care',\n",
      " 'interests': ['Golf', 'Cricket', 'Rubgy', 'Hiking', 'Fishing', 'Dancing'],\n",
      " 'lastname': 'Castro',\n",
      " 'workplace_id': 'a222385c-342c-43ea-adbc-9b487a2ee2be'}\n",
      "{'_id': '6222b4f5-6fd3-4c72-b058-710fb568b869',\n",
      " 'address_id': '59516270-19f4-47e8-95ae-3e83fa5f230c',\n",
      " 'age': 46,\n",
      " 'email': 'ruupeke@oh.om',\n",
      " 'firstname': 'Lucinda',\n",
      " 'industry': 'Health Care',\n",
      " 'interests': ['Golf', 'Rubgy', 'Tennis'],\n",
      " 'lastname': 'Gomez',\n",
      " 'workplace_id': 'a222385c-342c-43ea-adbc-9b487a2ee2be'}\n",
      "{'_id': 'ca189ae9-d04b-4ae0-9b4a-b725196c31d2',\n",
      " 'address_id': '16ff1778-b687-42ef-aace-36cedc05f521',\n",
      " 'age': 37,\n",
      " 'email': 'vom@calfim.se',\n",
      " 'firstname': 'Emilie',\n",
      " 'industry': 'Health Care',\n",
      " 'interests': ['Hiking'],\n",
      " 'lastname': 'Robertson',\n",
      " 'workplace_id': 'a222385c-342c-43ea-adbc-9b487a2ee2be'}\n",
      "{'_id': 'ed499274-f17f-4a4c-8327-7e740e6dd9c1',\n",
      " 'address_id': '01185f9b-b00f-4f2d-9878-0c989fe00fbc',\n",
      " 'age': 36,\n",
      " 'email': 'newi@to.in',\n",
      " 'firstname': 'Josephine',\n",
      " 'industry': 'Health Care',\n",
      " 'interests': ['Tennis', 'Bowling', 'Cricket'],\n",
      " 'lastname': 'Mills',\n",
      " 'workplace_id': 'a222385c-342c-43ea-adbc-9b487a2ee2be'}\n",
      "{'_id': '6a3bd505-56e6-46ec-bef1-2eef1fd3643c',\n",
      " 'address_id': 'a8f07070-cfb0-483e-a07a-b2adf9e3d4b0',\n",
      " 'age': 24,\n",
      " 'email': 'disbuivi@efu.id',\n",
      " 'firstname': 'Vernon',\n",
      " 'industry': 'Health Care',\n",
      " 'interests': ['Soccer'],\n",
      " 'lastname': 'Edwards',\n",
      " 'workplace_id': 'a222385c-342c-43ea-adbc-9b487a2ee2be'}\n",
      "{'_id': '5b8bb404-5741-46a9-84f2-81248ffd2840',\n",
      " 'address_id': 'fc2b6b58-8392-4f3d-b1c8-07f4df87dc24',\n",
      " 'age': 43,\n",
      " 'email': 'kazvasi@nojrek.aq',\n",
      " 'firstname': 'Glen',\n",
      " 'industry': 'Health Care',\n",
      " 'interests': ['Golf', 'Hiking'],\n",
      " 'lastname': 'Turner',\n",
      " 'workplace_id': 'a222385c-342c-43ea-adbc-9b487a2ee2be'}\n",
      "{'_id': 'c7cf8650-f391-4f2b-bbb5-60225729e998',\n",
      " 'address_id': '44cc24b9-1d60-45cf-be0d-a225f35d52ab',\n",
      " 'age': 49,\n",
      " 'email': 'himosewej@repan.bw',\n",
      " 'firstname': 'Jeremiah',\n",
      " 'industry': 'Health Care',\n",
      " 'interests': ['Cricket', 'Fishing'],\n",
      " 'lastname': 'Payne',\n",
      " 'workplace_id': 'a222385c-342c-43ea-adbc-9b487a2ee2be'}\n",
      "{'_id': '9ebcf9fc-e193-4ab7-9c38-10c2d6bf6036',\n",
      " 'address_id': 'd34f9d8c-c1a0-4653-8a44-d2fe65714956',\n",
      " 'age': 76,\n",
      " 'email': 'zut@zoksa.kw',\n",
      " 'firstname': 'Alan',\n",
      " 'industry': 'Health Care',\n",
      " 'interests': ['Bowling', 'Cooking', 'Rubgy', 'Fishing', 'Golf', 'Cricket'],\n",
      " 'lastname': 'Berry',\n",
      " 'workplace_id': 'a222385c-342c-43ea-adbc-9b487a2ee2be'}\n",
      "{'_id': 'fd677b4b-6eef-4777-bc3a-25d9a86134fa',\n",
      " 'address_id': '98fa15f0-5b73-4fb9-a5a4-1332e0f5b58b',\n",
      " 'age': 37,\n",
      " 'email': 'pelohno@hotivgu.hn',\n",
      " 'firstname': 'Mattie',\n",
      " 'industry': 'Health Care',\n",
      " 'interests': ['Cycling', 'Fishing', 'Soccer', 'Rubgy', 'Hiking'],\n",
      " 'lastname': 'Fisher',\n",
      " 'workplace_id': 'a222385c-342c-43ea-adbc-9b487a2ee2be'}\n",
      "{'_id': 'cb369c19-4bbc-449f-bff6-b198439d0d7b',\n",
      " 'address_id': 'd5b7473d-c82b-4956-bce3-80497ce6c015',\n",
      " 'age': 43,\n",
      " 'email': 'oka@lilozfaz.gn',\n",
      " 'firstname': 'Adele',\n",
      " 'industry': 'Health Care',\n",
      " 'interests': ['Swimming', 'Hiking', 'Tennis'],\n",
      " 'lastname': 'Benson',\n",
      " 'workplace_id': 'a222385c-342c-43ea-adbc-9b487a2ee2be'}\n",
      "{'_id': '8c4b8dc8-2ecc-46e8-8653-d126f1810c33',\n",
      " 'address_id': '592fa227-312d-4a80-8eb2-c4e26493da69',\n",
      " 'age': 27,\n",
      " 'email': 'rekasbe@vewusezi.an',\n",
      " 'firstname': 'Cory',\n",
      " 'industry': 'Health Care',\n",
      " 'interests': ['Fishing', 'Cricket', 'Hiking'],\n",
      " 'lastname': 'Beck',\n",
      " 'workplace_id': 'a222385c-342c-43ea-adbc-9b487a2ee2be'}\n",
      "{'_id': '9fd3a190-1991-4ce1-924b-de4701020022',\n",
      " 'address_id': '2d6b7fb9-fe27-4573-8ef6-56ba4b79e038',\n",
      " 'age': 50,\n",
      " 'email': 'imnampe@ca.pt',\n",
      " 'firstname': 'Jacob',\n",
      " 'industry': 'Health Care',\n",
      " 'interests': ['Dancing'],\n",
      " 'lastname': 'Austin',\n",
      " 'workplace_id': 'a222385c-342c-43ea-adbc-9b487a2ee2be'}\n",
      "{'_id': 'c6d0eebd-ddf2-41ed-a20f-76274c5c8343',\n",
      " 'address_id': '68d28d57-8cac-4388-8485-976518a6d817',\n",
      " 'age': 72,\n",
      " 'email': 'zolo@dacelva.dz',\n",
      " 'firstname': 'Tony',\n",
      " 'industry': 'Health Care',\n",
      " 'interests': ['Cooking', 'Rubgy'],\n",
      " 'lastname': 'Paul',\n",
      " 'workplace_id': 'a222385c-342c-43ea-adbc-9b487a2ee2be'}\n",
      "{'_id': 'e9e7ee3e-90da-4474-b6a7-f256e4915245',\n",
      " 'address_id': '5bbc3eb4-01cf-43c2-85bd-346f786adfee',\n",
      " 'age': 57,\n",
      " 'email': 'ar@gab.gov',\n",
      " 'firstname': 'Jorge',\n",
      " 'industry': 'Health Care',\n",
      " 'interests': ['Cooking'],\n",
      " 'lastname': 'Day',\n",
      " 'workplace_id': 'a222385c-342c-43ea-adbc-9b487a2ee2be'}\n"
     ]
    },
    {
     "data": {
      "text/plain": [
       "14"
      ]
     },
     "execution_count": 17,
     "metadata": {},
     "output_type": "execute_result"
    }
   ],
   "source": [
    "# Verify update\n",
    "for employee in client.assignment1.employee.find({'workplace_id':emp_workplace_id3}):\n",
    "    pprint.pprint(employee)\n",
    "client.assignment1.employee.count_documents({'workplace_id':emp_workplace_id3})"
   ]
  },
  {
   "cell_type": "code",
   "execution_count": 18,
   "metadata": {},
   "outputs": [
    {
     "data": {
      "text/plain": [
       "97"
      ]
     },
     "execution_count": 18,
     "metadata": {},
     "output_type": "execute_result"
    }
   ],
   "source": [
    "# Document count did not change after update which is what we expected\n",
    "client.assignment1.employee.count_documents({})"
   ]
  },
  {
   "cell_type": "markdown",
   "metadata": {
    "colab_type": "text",
    "id": "AlvB2ficvzvW"
   },
   "source": [
    "#### Question 5 (10 Marks)\n",
    "\n",
    "Create an aggregate query to count the number of employees for each company and sort the output from largest employee count to lowest employee count.\n",
    "\n",
    "__NOTE__ you will use a pipeline to achieve the computed result.  You should produce a result similar to the following table (the following table contains fake data)\n",
    "<table>\n",
    "    <tr><th></th><th>_id</th><th>count</th></tr>\n",
    "    <tr><td>0</td><td>[Equity Residential Properties Trust]</td><td>19</td></tr>\n",
    "    <tr><td>...</td><td>...</td><td>...</td></tr>\n",
    "    <tr><td>7</td><td>[Bell Microproducts Inc.]</td><td>6</td></tr>\n",
    "    <tr><td>8</td><td>[Kemet Corp.]</td><td>1</td></tr>\n",
    "</table>\n",
    "\n",
    "__HINT__ you should make use of the \\\\$lookup, \\\\$group and \\\\$sort pipeline operations"
   ]
  },
  {
   "cell_type": "code",
   "execution_count": 19,
   "metadata": {},
   "outputs": [
    {
     "name": "stdout",
     "output_type": "stream",
     "text": [
      "{'name': 'Union Planters Corp'}\n",
      "{'name': 'Aetna Inc.'}\n",
      "{'name': 'Health Net Inc.'}\n",
      "{'name': 'Kemet Corp.'}\n",
      "{'name': 'Bell Microproducts Inc.'}\n",
      "{'name': 'Equity Residential Properties Trust'}\n",
      "{'name': 'Equity Office Properties Trust'}\n",
      "{'name': 'Hilton Solutions'}\n",
      "{'name': 'Great Plains Energy Inc.'}\n",
      "{'name': 'Xcel Bear Inc'}\n",
      "{'name': 'Novellus Systems Inc'}\n",
      "{'name': 'Citizens Hawk'}\n"
     ]
    }
   ],
   "source": [
    "# First view the names of the workplaces in the collection\n",
    "for workplace in client.assignment1.workplace.find({},{'_id':0,'name':1}):\n",
    "    pprint.pprint(workplace)"
   ]
  },
  {
   "cell_type": "code",
   "execution_count": 20,
   "metadata": {},
   "outputs": [
    {
     "name": "stdout",
     "output_type": "stream",
     "text": [
      "{'_id': 'Hilton Solutions', 'count': 15}\n",
      "{'_id': 'Health Net Inc.', 'count': 14}\n",
      "{'_id': 'Aetna Inc.', 'count': 13}\n",
      "{'_id': 'Bell Microproducts Inc.', 'count': 11}\n",
      "{'_id': 'Equity Office Properties Trust', 'count': 10}\n",
      "{'_id': 'Union Planters Corp', 'count': 10}\n",
      "{'_id': 'Equity Residential Properties Trust', 'count': 7}\n",
      "{'_id': 'Xcel Bear Inc', 'count': 6}\n",
      "{'_id': 'Kemet Corp.', 'count': 6}\n",
      "{'_id': 'Great Plains Energy Inc.', 'count': 5}\n"
     ]
    }
   ],
   "source": [
    "# Check output of names of workplaces and count of employees at each\n",
    "for employee in client.assignment1.employee.aggregate([\n",
    "    {\n",
    "    '$lookup':\n",
    "       {\n",
    "         'from':'workplace',\n",
    "         'localField':'workplace_id',\n",
    "         'foreignField':'_id',\n",
    "         'as':'workplace_name'\n",
    "        }   \n",
    "    },\n",
    "    {\n",
    "        '$unwind':'$workplace_name'\n",
    "    },\n",
    "    {\n",
    "    '$group':  \n",
    "        {'_id': '$workplace_name.name',  \n",
    "         'count':{'$sum':1} \n",
    "        }\n",
    "    },\n",
    "    {\n",
    "    '$sort':{'count':-1} \n",
    "    }\n",
    "    ]):\n",
    " \n",
    "    pprint.pprint(employee)\n"
   ]
  },
  {
   "cell_type": "code",
   "execution_count": 21,
   "metadata": {
    "colab": {},
    "colab_type": "code",
    "id": "ajgvx8V5vzvW"
   },
   "outputs": [
    {
     "data": {
      "text/html": [
       "<div>\n",
       "<style scoped>\n",
       "    .dataframe tbody tr th:only-of-type {\n",
       "        vertical-align: middle;\n",
       "    }\n",
       "\n",
       "    .dataframe tbody tr th {\n",
       "        vertical-align: top;\n",
       "    }\n",
       "\n",
       "    .dataframe thead th {\n",
       "        text-align: right;\n",
       "    }\n",
       "</style>\n",
       "<table border=\"1\" class=\"dataframe\">\n",
       "  <thead>\n",
       "    <tr style=\"text-align: right;\">\n",
       "      <th></th>\n",
       "      <th>_id</th>\n",
       "      <th>count</th>\n",
       "    </tr>\n",
       "  </thead>\n",
       "  <tbody>\n",
       "    <tr>\n",
       "      <th>0</th>\n",
       "      <td>Hilton Solutions</td>\n",
       "      <td>15</td>\n",
       "    </tr>\n",
       "    <tr>\n",
       "      <th>1</th>\n",
       "      <td>Health Net Inc.</td>\n",
       "      <td>14</td>\n",
       "    </tr>\n",
       "    <tr>\n",
       "      <th>2</th>\n",
       "      <td>Aetna Inc.</td>\n",
       "      <td>13</td>\n",
       "    </tr>\n",
       "    <tr>\n",
       "      <th>3</th>\n",
       "      <td>Bell Microproducts Inc.</td>\n",
       "      <td>11</td>\n",
       "    </tr>\n",
       "    <tr>\n",
       "      <th>4</th>\n",
       "      <td>Equity Office Properties Trust</td>\n",
       "      <td>10</td>\n",
       "    </tr>\n",
       "    <tr>\n",
       "      <th>5</th>\n",
       "      <td>Union Planters Corp</td>\n",
       "      <td>10</td>\n",
       "    </tr>\n",
       "    <tr>\n",
       "      <th>6</th>\n",
       "      <td>Equity Residential Properties Trust</td>\n",
       "      <td>7</td>\n",
       "    </tr>\n",
       "    <tr>\n",
       "      <th>7</th>\n",
       "      <td>Xcel Bear Inc</td>\n",
       "      <td>6</td>\n",
       "    </tr>\n",
       "    <tr>\n",
       "      <th>8</th>\n",
       "      <td>Kemet Corp.</td>\n",
       "      <td>6</td>\n",
       "    </tr>\n",
       "    <tr>\n",
       "      <th>9</th>\n",
       "      <td>Great Plains Energy Inc.</td>\n",
       "      <td>5</td>\n",
       "    </tr>\n",
       "  </tbody>\n",
       "</table>\n",
       "</div>"
      ],
      "text/plain": [
       "                                   _id  count\n",
       "0                     Hilton Solutions     15\n",
       "1                      Health Net Inc.     14\n",
       "2                           Aetna Inc.     13\n",
       "3              Bell Microproducts Inc.     11\n",
       "4       Equity Office Properties Trust     10\n",
       "5                  Union Planters Corp     10\n",
       "6  Equity Residential Properties Trust      7\n",
       "7                        Xcel Bear Inc      6\n",
       "8                          Kemet Corp.      6\n",
       "9             Great Plains Energy Inc.      5"
      ]
     },
     "execution_count": 21,
     "metadata": {},
     "output_type": "execute_result"
    }
   ],
   "source": [
    "# YOUR CODE HERE\n",
    "# Run aggregation pipeline and produce dataframe\n",
    "\n",
    "query_result = client.assignment1.employee.aggregate([\n",
    "    {\n",
    "    '$lookup':\n",
    "       {\n",
    "         'from':'workplace',\n",
    "         'localField':'workplace_id',\n",
    "         'foreignField':'_id',\n",
    "         'as':'workplace_name'\n",
    "        }   \n",
    "    },\n",
    "    {\n",
    "        '$unwind':'$workplace_name'\n",
    "    },\n",
    "    {\n",
    "    '$group':  \n",
    "        {'_id': '$workplace_name.name',  \n",
    "         'count':{'$sum':1} \n",
    "        }\n",
    "    },\n",
    "    {\n",
    "    '$sort':{'count':-1} \n",
    "    }\n",
    "    ])\n",
    "\n",
    "df=pd.DataFrame(list(query_result))\n",
    "df"
   ]
  }
 ],
 "metadata": {
  "colab": {
   "collapsed_sections": [],
   "name": "Assignment_1.ipynb",
   "provenance": [],
   "version": "0.3.2"
  },
  "kernelspec": {
   "display_name": "Python 3 (ipykernel)",
   "language": "python",
   "name": "python3"
  },
  "language_info": {
   "codemirror_mode": {
    "name": "ipython",
    "version": 3
   },
   "file_extension": ".py",
   "mimetype": "text/x-python",
   "name": "python",
   "nbconvert_exporter": "python",
   "pygments_lexer": "ipython3",
   "version": "3.10.9"
  }
 },
 "nbformat": 4,
 "nbformat_minor": 1
}
